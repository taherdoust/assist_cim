{
  "cells": [
    {
      "cell_type": "markdown",
      "metadata": {},
      "source": [
        "# CIM Assistant with Remote Hugging Face API\n",
        "\n",
        "This notebook uses a Hugging Face model hosted on ipazia server via API.\n",
        "Perfect for when you want to use server resources but develop locally!\n"
      ]
    },
    {
      "cell_type": "code",
      "execution_count": null,
      "metadata": {},
      "outputs": [],
      "source": [
        "# LangChain imports\n",
        "from langchain_core.messages import HumanMessage, SystemMessage\n",
        "from langchain_core.prompts import ChatPromptTemplate\n",
        "from langchain_core.output_parsers import StrOutputParser\n",
        "from langchain_community.utilities import SQLDatabase\n",
        "from langchain_community.agent_toolkits import SQLDatabaseToolkit\n",
        "from langchain_community.tools.sql_database.tool import QuerySQLDataBaseTool, InfoSQLDatabaseTool, ListSQLDatabaseTool, QuerySQLCheckerTool\n",
        "from langgraph.prebuilt import create_react_agent\n",
        "from dotenv import load_dotenv\n",
        "import os\n",
        "\n",
        "# Import our custom HF API LLM\n",
        "from langchain_hf_api import HFApiLLM\n",
        "\n",
        "print(\"✅ All imports loaded successfully!\")\n"
      ]
    },
    {
      "cell_type": "code",
      "execution_count": null,
      "metadata": {},
      "outputs": [],
      "source": [
        "# Initialize the HF API LLM\n",
        "print(\"🔄 Initializing Hugging Face API client...\")\n",
        "\n",
        "# Configure API URL (change if needed)\n",
        "API_URL = \"http://ipazia126.polito.it:9000\"\n",
        "\n",
        "llm = HFApiLLM(\n",
        "    api_url=API_URL,\n",
        "    max_tokens=512,\n",
        "    temperature=0.0\n",
        ")\n",
        "\n",
        "print(\"✅ HF API LLM initialized!\")\n"
      ]
    },
    {
      "cell_type": "code",
      "execution_count": null,
      "metadata": {},
      "outputs": [],
      "source": [
        "# Test API connection and model info\n",
        "print(\"🔍 Testing API connection...\")\n",
        "\n",
        "# Health check\n",
        "health = llm.health_check()\n",
        "print(f\"API Health: {health}\")\n",
        "\n",
        "# Model info\n",
        "model_info = llm.get_model_info()\n",
        "print(f\"Model Info: {model_info}\")\n",
        "\n",
        "if health.get(\"status\") == \"healthy\":\n",
        "    print(\"✅ API server is healthy and ready!\")\n",
        "else:\n",
        "    print(\"❌ API server is not healthy. Please check the server.\")\n"
      ]
    }
  ],
  "metadata": {
    "language_info": {
      "name": "python"
    }
  },
  "nbformat": 4,
  "nbformat_minor": 2
}
